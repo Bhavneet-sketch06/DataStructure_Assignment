{
 "cells": [
  {
   "cell_type": "markdown",
   "id": "023a674a",
   "metadata": {},
   "source": [
    "Q1. Discuss string slicing and provide examples.\n",
    "Ans. String slicing is a technique in python used to extract specific portion from a string. It uses the format : string[start : end]\n",
    "where start is the index from where slicing starts and end is the index where slicing ends. But the end index is exclusive. It can be illustrated with the help of following code :  "
   ]
  },
  {
   "cell_type": "code",
   "execution_count": 3,
   "id": "e735bd62",
   "metadata": {},
   "outputs": [
    {
     "name": "stdout",
     "output_type": "stream",
     "text": [
      "['Khushi', 1, 16, 159]\n"
     ]
    }
   ],
   "source": [
    "list1 = [\"Ram\" , \"Rita\" , \"Khushi\" , 1 , 16 , 159 , \"Potato\" , \"Kiwi\"]\n",
    "print(list1[2:6]) #Here the slicing started from index 2 and ended on index 5 , 6th index is not included\n"
   ]
  },
  {
   "cell_type": "markdown",
   "id": "a978ceb9",
   "metadata": {},
   "source": [
    "Q2.Explain the key features of lists in Python.\n",
    "Ans. The key features of lists in python are : \n",
    "1.Ordered collection : Lists are ordered collection of elements. Items are stored in a proper order and can be accessed by their index.\n",
    "2.Mutable : Lists are mutable which means modifications can be made to lists even after they have been created. We can either add or remove the elemnts from it.\n",
    "3.Heterogenous elements : Lists can store elements of different data types such as integers , strings , float values , even other sub lists .\n",
    "4.Supports slicing : Lists supports slicing which helps in extracting specific and required data or elements.\n",
    "5.Supports Iteratin : Lists can be iterated using loops , which also increases efficiency and helps in performing various operatins.\n",
    "6.List Comprehension : Python support list comprehension enabling concise and readable creation of new lists based on existing ones."
   ]
  },
  {
   "cell_type": "markdown",
   "id": "1aa8b854",
   "metadata": {},
   "source": [
    "Q3. Describe how to access , modify , and delete elements in a list with examples.\n",
    "Ans.The following features can be explained with the help of following examples:"
   ]
  },
  {
   "cell_type": "code",
   "execution_count": 7,
   "id": "ef7f7c11",
   "metadata": {},
   "outputs": [
    {
     "name": "stdout",
     "output_type": "stream",
     "text": [
      "Scale\n",
      "Ink\n",
      "Ball pen refill\n",
      "['Pen', 'Pencil', 'Scale', 'PenKit', 'Ball pen refill']\n"
     ]
    }
   ],
   "source": [
    "#accessing elements from a list\n",
    "stationery_list = [\"Pen\" , \"Eraser\" , \"Pencil\" , \"Scale\" , \"PenKit\" , \"Ink\"]\n",
    "print(stationery_list[3])\n",
    "\n",
    "# modifying elememts in a list\n",
    "print(stationery_list[5])\n",
    "stationery_list[5] = \"Ball pen refill\"\n",
    "print(stationery_list[5])\n",
    "\n",
    "# deleting elements in a list\n",
    "stationery_list.remove(\"Eraser\")\n",
    "print(stationery_list)\n"
   ]
  },
  {
   "cell_type": "markdown",
   "id": "7d374fcb",
   "metadata": {},
   "source": [
    "Q4.Compare and contrast tuples and lists with examples.\n",
    "Ans. Tuples :\n",
    "Tuples can store heterogenous data or elements . But tuples are immutable which means they do not support item assignment . If we try to add or remove any element it wil throw an error.\n",
    "Lists :\n",
    "Lists can also store heterogenous data or elements just like tuples but lists are mutable which means they support item assignment and on adding or removing an element do not throw an error.\n",
    "The concept pof list and tuple can be compared and contrasted with the help of an example below mentioned: "
   ]
  },
  {
   "cell_type": "code",
   "execution_count": 9,
   "id": "ebcaa71f",
   "metadata": {},
   "outputs": [
    {
     "name": "stdout",
     "output_type": "stream",
     "text": [
      "['Harry potter', 'Saint joan', 'Canterville ghost']\n",
      "['Harry potter', 'Saint joan', 'Canterville ghost', 'Twisted Hate']\n",
      "('Soap', 'Dry fruits', 'Bucket', 'Dinner set')\n"
     ]
    },
    {
     "ename": "AttributeError",
     "evalue": "'tuple' object has no attribute 'append'",
     "output_type": "error",
     "traceback": [
      "\u001b[1;31m---------------------------------------------------------------------------\u001b[0m",
      "\u001b[1;31mAttributeError\u001b[0m                            Traceback (most recent call last)",
      "Cell \u001b[1;32mIn[9], line 9\u001b[0m\n\u001b[0;32m      7\u001b[0m grocery_tuple \u001b[38;5;241m=\u001b[39m (\u001b[38;5;124m\"\u001b[39m\u001b[38;5;124mSoap\u001b[39m\u001b[38;5;124m\"\u001b[39m , \u001b[38;5;124m\"\u001b[39m\u001b[38;5;124mDry fruits\u001b[39m\u001b[38;5;124m\"\u001b[39m , \u001b[38;5;124m\"\u001b[39m\u001b[38;5;124mBucket\u001b[39m\u001b[38;5;124m\"\u001b[39m , \u001b[38;5;124m\"\u001b[39m\u001b[38;5;124mDinner set\u001b[39m\u001b[38;5;124m\"\u001b[39m)\n\u001b[0;32m      8\u001b[0m \u001b[38;5;28mprint\u001b[39m(grocery_tuple)   \u001b[38;5;66;03m#before adding an element\u001b[39;00m\n\u001b[1;32m----> 9\u001b[0m \u001b[43mgrocery_tuple\u001b[49m\u001b[38;5;241;43m.\u001b[39;49m\u001b[43mappend\u001b[49m(\u001b[38;5;124m\"\u001b[39m\u001b[38;5;124mBodywash\u001b[39m\u001b[38;5;124m\"\u001b[39m)\n\u001b[0;32m     10\u001b[0m \u001b[38;5;28mprint\u001b[39m(grocery_tuple)    \u001b[38;5;66;03m#after adding element , the output shows that tuple doesn't support item assignment\u001b[39;00m\n",
      "\u001b[1;31mAttributeError\u001b[0m: 'tuple' object has no attribute 'append'"
     ]
    }
   ],
   "source": [
    "book_list = [\"Harry potter\" , \"Saint joan\" , \"Canterville ghost\"]\n",
    "print(book_list)   #before adding an element\n",
    "book_list.append(\"Twisted Hate\")\n",
    "print(book_list)    #after adding element , the output shows that list supports item assignment\n",
    "\n",
    "\n",
    "grocery_tuple = (\"Soap\" , \"Dry fruits\" , \"Bucket\" , \"Dinner set\")\n",
    "print(grocery_tuple)   #before adding an element\n",
    "grocery_tuple.append(\"Bodywash\")\n",
    "print(grocery_tuple)    #after adding element , the output shows that tuple doesn't support item assignment"
   ]
  },
  {
   "cell_type": "markdown",
   "id": "28a10d93",
   "metadata": {},
   "source": [
    "Q5. Describe the key features of sets and provide examples of their use.\n",
    "Ans. The key features of sets are :\n",
    "1.Unoredered collection : Sets is an unordered collection of elements. They do not store elements in a ordered way.\n",
    "2.No Duplicates : Sets do not atore any duplicate value they automatically remove it. Hence each element is unique.\n",
    "3.OPerations : Sets support many mathematical operations like : union , intersectin , diffeence , symmeteric differnce.\n",
    "4.Membership testing : they also check if a particular element is present or not.\n",
    "\n",
    "The above features can be explained with the help of following examples : "
   ]
  },
  {
   "cell_type": "code",
   "execution_count": 18,
   "id": "e25f99aa",
   "metadata": {},
   "outputs": [
    {
     "name": "stdout",
     "output_type": "stream",
     "text": [
      "{1, 2, 3, 4, 9}\n",
      "True\n",
      "{85, 5}\n",
      "{1, 3, 4, 5, 6, 9, 11, 85}\n",
      "{1, 3, 4, 9}\n"
     ]
    }
   ],
   "source": [
    "set1 = {1,2,2,4,4,9,9,9,3,3,3}\n",
    "print(set1) # prints only unique elements no duplicates\n",
    "\n",
    "\n",
    "is_member = 2 in set1 #checking membership using in keyword\n",
    "print(is_member)\n",
    "\n",
    "setA = {1,5,3,9,85,4}\n",
    "setB = {5,85,6,11}\n",
    "print(setA & setB)   #intersection of two sets i.e. common elements from both the sets\n",
    "print(setA | setB)   #union of two sets i.e. combining all the elements from both the sets\n",
    "print(setA - setB)   #diffeence of two sets i.e. All the elemnets from the 1st set that are not present in 2nd set"
   ]
  },
  {
   "cell_type": "markdown",
   "id": "8d7b1cd3",
   "metadata": {},
   "source": [
    "Q6.Discuss the use cases of tuples and sets in Python programming.\n",
    "Ans.The use cases of tuples are :\n",
    "Tuples are data structures which are used when we don't want to change the data or elements.\n",
    "Tuples are also used as dictionary keys because they are hashable unlike lists or sets.\n",
    "Tuples are also used to group heterogenous data together.\n",
    "\n",
    "The use case of sets are :\n",
    "Sets are used when we want to make sure that elements of our collection should be unique and want to eliminate duplicate values.\n",
    "Sets also make it simple when we want to compare multiple lists or collections to find common or different elements.\n"
   ]
  },
  {
   "cell_type": "code",
   "execution_count": 21,
   "id": "b808935f",
   "metadata": {},
   "outputs": [
    {
     "name": "stdout",
     "output_type": "stream",
     "text": [
      "{1, 2, 3, 4, 5, 6, 7, 10}\n",
      "{(1, 2): 'abc', 'Table': 'a wooden furniture', 'Octopus': 'a water animal'}\n",
      "('Books', 'Notebooks', 1, 6, 85.6, 'Cherry', 'Good morning')\n"
     ]
    }
   ],
   "source": [
    "#Sets eliminating dulpicate elements\n",
    "my_set = {1,1,2,5,1,4,3,6,2,1,6,6,7,7,7,10}\n",
    "print(my_set)\n",
    "\n",
    "#tuples being used as key in dictionary\n",
    "dummy_dict = {(1,2) : \"abc\" , \"Table\" : \"a wooden furniture\" , \"Octopus\" : \"a water animal\"}\n",
    "print(dummy_dict)\n",
    "\n",
    "#Tuples grouping various heterogenous data or elements\n",
    "my_tuple = (\"Books\" , \"Notebooks\" , 1 , 6 , 85.6 , \"Cherry\" , \"Good morning\")\n",
    "print(my_tuple)"
   ]
  },
  {
   "cell_type": "markdown",
   "id": "76b6e444",
   "metadata": {},
   "source": [
    "Q7. Describe how to add, modify, and delete items in a dictionary with examples.\n",
    "Ans. The following functions can be well illustarted with the help programs written below :\n"
   ]
  },
  {
   "cell_type": "code",
   "execution_count": 26,
   "id": "2dbb36a6",
   "metadata": {},
   "outputs": [
    {
     "name": "stdout",
     "output_type": "stream",
     "text": [
      "{'name': 'Bhavneet Kour', 'Age': 18, 'Grade': 'A'}\n",
      "{'name': 'Bhavneet Kour', 'Age': 18, 'Grade': 'A', 'Degree': 'Btech'}\n",
      "{'name': 'Bhavneet Kour', 'Grade': 'A', 'Degree': 'Btech'}\n",
      "{'name': 'Yeshmeen Kour', 'Age': 18, 'Grade': 'A'}\n"
     ]
    }
   ],
   "source": [
    "xyz_dict = {\"name\" : \"Bhavneet Kour\" , \"Age\" : 18 , \"Grade\" : \"A\"}\n",
    "print(xyz_dict)\n",
    "\n",
    "\n",
    "# adding items to dictionary\n",
    "xyz_dict[\"Degree\"] = \"Btech\"\n",
    "print(xyz_dict)\n",
    "\n",
    "\n",
    "#deleting an element from dictionary\n",
    "del xyz_dict[\"Age\"]\n",
    "print(xyz_dict)\n",
    "\n",
    "\n",
    "#modifying items in a dictionary\n",
    "xyz_dict = {\"name\" : \"Bhavneet Kour\" , \"Age\" : 18 , \"Grade\" : \"A\" , \"name\" : \"Yeshmeen Kour\"}\n",
    "print(xyz_dict)\n",
    "# here the value which is last updated is only given as output , like here in this case name which is last updated is given as output"
   ]
  },
  {
   "cell_type": "markdown",
   "id": "eebd0038",
   "metadata": {},
   "source": [
    "Q8.Discuss the importance of dictionary keys being immutable and provide examples.\n",
    "Ans.Dictionary keys must be immutable to ensure the dictionary functions correctly.This is crucial because dictionaries rely on a concept called hashing so as to quickly retrieve the values based on keys.And we also know that immutable data structure has a stable hash value.\n",
    " "
   ]
  },
  {
   "cell_type": "code",
   "execution_count": 28,
   "id": "a6e6220c",
   "metadata": {},
   "outputs": [
    {
     "name": "stdout",
     "output_type": "stream",
     "text": [
      "{'Name': 'John', 101: 'Physics', (1, 2): 'coordinates'}\n"
     ]
    },
    {
     "ename": "TypeError",
     "evalue": "unhashable type: 'list'",
     "output_type": "error",
     "traceback": [
      "\u001b[1;31m---------------------------------------------------------------------------\u001b[0m",
      "\u001b[1;31mTypeError\u001b[0m                                 Traceback (most recent call last)",
      "Cell \u001b[1;32mIn[28], line 6\u001b[0m\n\u001b[0;32m      3\u001b[0m \u001b[38;5;28mprint\u001b[39m(student_info)\n\u001b[0;32m      5\u001b[0m \u001b[38;5;66;03m#Now using mutable keys\u001b[39;00m\n\u001b[1;32m----> 6\u001b[0m my_dict \u001b[38;5;241m=\u001b[39m {[\u001b[38;5;241m1\u001b[39m,\u001b[38;5;241m2\u001b[39m,\u001b[38;5;241m3\u001b[39m] : \u001b[38;5;124m\"\u001b[39m\u001b[38;5;124mThis is a list\u001b[39m\u001b[38;5;124m\"\u001b[39m , {\u001b[38;5;241m4\u001b[39m,\u001b[38;5;241m5\u001b[39m,\u001b[38;5;241m6\u001b[39m}: \u001b[38;5;124m\"\u001b[39m\u001b[38;5;124mThis is a set\u001b[39m\u001b[38;5;124m\"\u001b[39m}\n\u001b[0;32m      7\u001b[0m \u001b[38;5;28mprint\u001b[39m(my_dict)\n",
      "\u001b[1;31mTypeError\u001b[0m: unhashable type: 'list'"
     ]
    }
   ],
   "source": [
    "# using immutable keys\n",
    "student_info = {\"Name\" : \"John\" , 101 : \"Physics\" , (1,2) : \"coordinates\"}\n",
    "print(student_info)\n",
    "\n",
    "#Now using mutable keys\n",
    "my_dict = {[1,2,3] : \"This is a list\" , {4,5,6}: \"This is a set\"}\n",
    "print(my_dict) # this will throw an error of unhashable type\n"
   ]
  }
 ],
 "metadata": {
  "kernelspec": {
   "display_name": "Python 3 (ipykernel)",
   "language": "python",
   "name": "python3"
  },
  "language_info": {
   "codemirror_mode": {
    "name": "ipython",
    "version": 3
   },
   "file_extension": ".py",
   "mimetype": "text/x-python",
   "name": "python",
   "nbconvert_exporter": "python",
   "pygments_lexer": "ipython3",
   "version": "3.12.7"
  }
 },
 "nbformat": 4,
 "nbformat_minor": 5
}
